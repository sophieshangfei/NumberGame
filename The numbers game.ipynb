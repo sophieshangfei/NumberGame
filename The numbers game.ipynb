{
 "cells": [
  {
   "cell_type": "code",
   "execution_count": 177,
   "metadata": {
    "collapsed": false
   },
   "outputs": [],
   "source": [
    "# %load model.py"
   ]
  },
  {
   "cell_type": "code",
   "execution_count": 223,
   "metadata": {
    "collapsed": true
   },
   "outputs": [],
   "source": [
    "import numpy as np\n",
    "#continuous intervals\n",
    "first = 1\n",
    "last = 100"
   ]
  },
  {
   "cell_type": "code",
   "execution_count": 224,
   "metadata": {
    "collapsed": false
   },
   "outputs": [],
   "source": [
    "def continuous(first, last):\n",
    "\tdomain = np.arange(0, 100, 1)\n",
    "\ti = 1\n",
    "\tn = last*(last + 1)/2\n",
    "\thyps = []\n",
    "\tnames = []\n",
    "\tsizes = []\n",
    "\tfor s in domain:\n",
    "\t\tlocal_domain = np.arange(s, last, 1)\n",
    "\t\tfor e in local_domain:\n",
    "\t\t\thyps.append(np.arange(s, e+1,1))\n",
    "\t\t\tnames.append([\"interval from \" + str(s) + \" to \" + str(e)])\n",
    "\t\t\tsizes.append(len(hyps[i-1]))\n",
    "\t\t\ti = i + 1\n",
    "\treturn [hyps, names, sizes]"
   ]
  },
  {
   "cell_type": "code",
   "execution_count": 225,
   "metadata": {
    "collapsed": true
   },
   "outputs": [],
   "source": [
    "# all number\n",
    "def all_number(first, last):\n",
    "\tall =  np.arange(0, 100, 1)\n",
    "\tnames = \"all\"\n",
    "\tsizes = len(all)\n",
    "\treturn [all, names, sizes]"
   ]
  },
  {
   "cell_type": "code",
   "execution_count": 226,
   "metadata": {
    "collapsed": false
   },
   "outputs": [],
   "source": [
    "# even or odd\n",
    "def even_odd(first, last):\n",
    "\tdomain = np.arange(0, 100, 1)\n",
    "\tevens = [x for x in domain if x % 2 == 0]\n",
    "\todds = [x for x in domain if x % 2 != 0]\n",
    "\thyps = np.array((evens, odds))\n",
    "\tnames = [\"evens\", \"odds\"]\n",
    "\tsizes = [len(evens), len(odds)]\n",
    "\treturn [hyps, names, sizes]"
   ]
  },
  {
   "cell_type": "code",
   "execution_count": 227,
   "metadata": {
    "collapsed": false
   },
   "outputs": [],
   "source": [
    "# powers\n",
    "def powers (first, last):\n",
    "\tdomain = np.arange(0, 100, 1)\n",
    "\tpower = [2, 3, 4, 5, 6]\n",
    "\tn = len(power)\n",
    "\thyps = []\n",
    "\tnames = []\n",
    "\tsizes = []\n",
    "\tfor i in np.arange(1, n, 1):\n",
    "\t\tp = power[i-1]\n",
    "\t\thyps.append([n**p for n in domain if n**p<=last])\n",
    "\t\tnames.append([\"powers of \" + str(p)])\n",
    "\t\tsizes.append(len(hyps[i-1]))\n",
    "\treturn [hyps, names, sizes]\n"
   ]
  },
  {
   "cell_type": "code",
   "execution_count": 228,
   "metadata": {
    "collapsed": false
   },
   "outputs": [],
   "source": [
    "# a chart of all lower hypothesis\n",
    "def hypothesis_chart(first, last):\n",
    "\tc=continuous(first, last)\n",
    "\tn=all_number(first, last)\n",
    "\teo=even_odd(first, last)\n",
    "\tp=powers(first, last)\n",
    "\treturn [c, n, eo, p]"
   ]
  },
  {
   "cell_type": "code",
   "execution_count": 229,
   "metadata": {
    "collapsed": false
   },
   "outputs": [],
   "source": [
    "# lower hypothesis space\n",
    "###### mag first, math second ######\n",
    "c=continuous(first, last)\n",
    "n=all_number(first, last)\n",
    "eo=even_odd(first, last)\n",
    "p=powers(first, last)\n",
    "nmag = len(c[0]) + len(n[0])\n",
    "nmath = len(eo[0]) + len(p[0])\n",
    "hypothesis_space=[]\n",
    "hypothesis_space.extend(c[0])\n",
    "hypothesis_space.extend(n[0])\n",
    "hypothesis_space.extend(eo[0])\n",
    "hypothesis_space.extend(p[0])"
   ]
  },
  {
   "cell_type": "code",
   "execution_count": 230,
   "metadata": {
    "collapsed": false
   },
   "outputs": [
    {
     "name": "stdout",
     "output_type": "stream",
     "text": [
      "5156\n"
     ]
    }
   ],
   "source": [
    "# covert lower hypothesis space to binary\n",
    "last = 100\n",
    "nhyp = len(hypothesis_space)\n",
    "print (nhyp)\n",
    "hypothesisbin = np.zeros(shape = [last, nhyp])"
   ]
  },
  {
   "cell_type": "code",
   "execution_count": 231,
   "metadata": {
    "collapsed": false
   },
   "outputs": [],
   "source": [
    "# overhypothesis space\n",
    "##### mag first, math second ######\n",
    "mag_space = np.append(np.repeat(1, nmath), np.repeat(0, nmag))\n",
    "math_space = np.append(np.repeat(0, nmath), np.repeat(1, nmag))\n",
    "overhypothesis = np.stack((mag_space, math_space))"
   ]
  },
  {
   "cell_type": "code",
   "execution_count": 232,
   "metadata": {
    "collapsed": true
   },
   "outputs": [],
   "source": [
    "# lambda\n",
    "math_prior = 0.9\n",
    "# 1-lambda\n",
    "mag_prior = 1-math_prior"
   ]
  },
  {
   "cell_type": "code",
   "execution_count": 233,
   "metadata": {
    "collapsed": false
   },
   "outputs": [],
   "source": [
    "### prior ###\n",
    "\n",
    "##### mag first, math second ######\n",
    "\n",
    "# low-level prior\n",
    "prior_mag = mag_prior/nmag\n",
    "prior_math = math_prior/nmath\n",
    "low_prior = []\n",
    "low_prior.extend(np.repeat(prior_mag, nmag))\n",
    "low_prior.extend(np.repeat(prior_math, nmath))\n",
    "low_prior = np.matrix(low_prior)\n"
   ]
  },
  {
   "cell_type": "code",
   "execution_count": 234,
   "metadata": {
    "collapsed": false
   },
   "outputs": [
    {
     "name": "stdout",
     "output_type": "stream",
     "text": [
      "(1, 2)\n"
     ]
    }
   ],
   "source": [
    "# theory level prior\n",
    "##### mag first, math second ######\n",
    "theory_prior = np.matrix((mag_prior, math_prior))\n",
    "print (theory_prior.shape)"
   ]
  },
  {
   "cell_type": "code",
   "execution_count": 235,
   "metadata": {
    "collapsed": false
   },
   "outputs": [
    {
     "name": "stdout",
     "output_type": "stream",
     "text": [
      "100\n",
      "[[ 1.  1.  1. ...,  1.  1.  1.]\n",
      " [ 0.  1.  1. ...,  1.  1.  1.]\n",
      " [ 0.  0.  1. ...,  0.  0.  0.]\n",
      " ..., \n",
      " [ 0.  0.  0. ...,  0.  0.  0.]\n",
      " [ 0.  0.  0. ...,  0.  0.  0.]\n",
      " [ 0.  0.  0. ...,  0.  0.  0.]]\n"
     ]
    }
   ],
   "source": [
    "# lower-level matrix\n",
    "domain = np.arange(0, 100, 1)\n",
    "print (len(domain))\n",
    "lower_level_matrix = np.empty(shape=[0, nhyp])\n",
    "for d in domain:\n",
    "\td_binary = []\n",
    "\tfor h in hypothesis_space:\n",
    "\t\tif np.in1d(d, h)[0]:\n",
    "\t\t\td_binary.append(1)\n",
    "\t\telse:\n",
    "\t\t\td_binary.append(0)\n",
    "\tlower_level_matrix = np.append(lower_level_matrix, [d_binary], axis = 0)\n",
    "print (lower_level_matrix)"
   ]
  },
  {
   "cell_type": "code",
   "execution_count": 236,
   "metadata": {
    "collapsed": false
   },
   "outputs": [],
   "source": [
    "# lower_level likelihood\n",
    "lower_level_likelihood_deno = np.sum(lower_level_matrix, axis = 0)\n",
    "lower_level_likelihood = np.matrix([1/p for p in lower_level_likelihood_deno])"
   ]
  },
  {
   "cell_type": "code",
   "execution_count": 237,
   "metadata": {
    "collapsed": true
   },
   "outputs": [],
   "source": [
    "# lower_level likelihood of an observation\n",
    "observation = 2\n",
    "lower_level_likelihood_observation = np.multiply(lower_level_matrix[observation,:], lower_level_likelihood)"
   ]
  },
  {
   "cell_type": "code",
   "execution_count": 238,
   "metadata": {
    "collapsed": false
   },
   "outputs": [
    {
     "name": "stdout",
     "output_type": "stream",
     "text": [
      "(2, 5156)\n"
     ]
    }
   ],
   "source": [
    "### Step 1 - theory-level likelihood ###\n",
    "theory_level_likelihood_mag=np.multiply(np.matrix(overhypothesis[0,:]).transpose(),low_prior.transpose())\n",
    "theory_level_likelihood_math=np.multiply(np.matrix(overhypothesis[1,:]).transpose(),low_prior.transpose())\n",
    "theory_level_likelihood = np.stack((theory_level_likelihood_mag.transpose(), theory_level_likelihood_math.transpose()))\n",
    "print (theory_level_likelihood.shape)\n",
    "    "
   ]
  },
  {
   "cell_type": "code",
   "execution_count": 239,
   "metadata": {
    "collapsed": false
   },
   "outputs": [
    {
     "name": "stdout",
     "output_type": "stream",
     "text": [
      "(1, 2)\n"
     ]
    }
   ],
   "source": [
    "### Step 2 ###\n",
    "transpose_lower_likeli = lower_level_likelihood_observation.transpose()\n",
    "#print (transpose_lower_likeli.shape)\n",
    "# prior for observation\n",
    "#prob_observation_theory = transpose_lower_likeli*theory_level_likelihood\n",
    "\n",
    "\n",
    "prob_observation_theory = []\n",
    "for row in theory_level_likelihood:\n",
    "    a = np.multiply(row, lower_level_likelihood_observation)\n",
    "    prob_observation_theory.append(np.sum(a))\n",
    "prob_observation_theory = np.matrix(prob_observation_theory)\n",
    "print (prob_observation_theory.shape)"
   ]
  },
  {
   "cell_type": "code",
   "execution_count": 244,
   "metadata": {
    "collapsed": false
   },
   "outputs": [
    {
     "name": "stdout",
     "output_type": "stream",
     "text": [
      "1.0\n"
     ]
    }
   ],
   "source": [
    "### Step 3 theory-level posterior distribution ###\n",
    "numerator = np.multiply(prob_observation_theory, theory_prior)\n",
    "denominator = np.sum(numerator)\n",
    "theory_posterior_mag = numerator[0,0]/denominator\n",
    "theory_posterior_num = numerator[0,1]/denominator\n",
    "theory_level_posterior = np.matrix([theory_posterior_mag, theory_posterior_num])\n",
    "print (np.sum(theory_level_posterior))"
   ]
  },
  {
   "cell_type": "code",
   "execution_count": 247,
   "metadata": {
    "collapsed": false
   },
   "outputs": [
    {
     "name": "stdout",
     "output_type": "stream",
     "text": [
      "1.0\n"
     ]
    }
   ],
   "source": [
    "### Step 3a lower-level posterior distribution ###\n",
    "numerator = np.multiply(low_prior, lower_level_likelihood_observation)\n",
    "denominator = np.sum(numerator)\n",
    "i = 0\n",
    "lower_level_posterior = []\n",
    "while i < nhyp:\n",
    "    lower_level_posterior.append(numerator[0,i]/denominator)\n",
    "    i = i +1\n",
    "lower_level_posterior = np.matrix(lower_level_posterior)\n",
    "print (np.sum(lower_level_posterior))"
   ]
  },
  {
   "cell_type": "code",
   "execution_count": 242,
   "metadata": {
    "collapsed": false
   },
   "outputs": [],
   "source": [
    "### Step 4 re-assigning priors ###\n",
    "math_prior = theory_level_posterior[0,1]\n",
    "mag_prior = 1 - math_prior\n",
    "# low level #\n",
    "denominator = np.sum(lower_level_posterior)\n",
    "numerator = []\n",
    "i = 0\n",
    "while i < nmag:\n",
    "\tnumerator.append(mag_prior*lower_level_posterior[0, i])\n",
    "\ti = i + 1\n",
    "m = nmag\n",
    "while m < (nhyp):\n",
    "\tnumerator.append(math_prior * lower_level_posterior[0, m])\n",
    "\tm = m + 1\n",
    "    \n",
    "lower_level_new_prior = np.matrix([n/denominator for n in numerator])"
   ]
  },
  {
   "cell_type": "code",
   "execution_count": 243,
   "metadata": {
    "collapsed": true
   },
   "outputs": [],
   "source": [
    "# posterior predictive\n"
   ]
  },
  {
   "cell_type": "code",
   "execution_count": null,
   "metadata": {
    "collapsed": true
   },
   "outputs": [],
   "source": [
    "# assign theory level prior\n"
   ]
  },
  {
   "cell_type": "code",
   "execution_count": null,
   "metadata": {
    "collapsed": true
   },
   "outputs": [],
   "source": [
    "# theory-level prior --- depend on initial assignment and last observered number\n",
    "# low-level prior --- depend on theory level prior\n",
    "# lower_level_observation_likelihood remains constant\n",
    "# theory_level_likelihood --- depend on low_level_prior, which depend on theory level prior, which depend on last observred number\n",
    "# prob_observation_theor --- depend on theory_level_likelihood\n",
    "# theory_level_posterior --- theory_level_prior, theory_level_likelihood(low_level_prior, )\n",
    "# "
   ]
  },
  {
   "cell_type": "code",
   "execution_count": 111,
   "metadata": {
    "collapsed": false
   },
   "outputs": [
    {
     "name": "stdout",
     "output_type": "stream",
     "text": [
      "[[12]\n",
      " [18]]\n",
      "[ 4 10 18 28 40]\n"
     ]
    }
   ],
   "source": [
    "# matrix multiplication\n",
    "a = [[2, 2, 2],[3, 3, 3]] # 2*3\n",
    "b = [[1], [2], [3]] #3*1\n",
    "c = np.matrix(a)*np.matrix(b)\n",
    "print (c)\n",
    "\n",
    "# element wise product\n",
    "m = [1, 2, 3, 4, 5]\n",
    "n = [4, 5, 6, 7, 8]\n",
    "p = np.multiply(np.array(m), np.array(n))\n",
    "print (p)"
   ]
  }
 ],
 "metadata": {
  "anaconda-cloud": {},
  "kernelspec": {
   "display_name": "Python [Root]",
   "language": "python",
   "name": "Python [Root]"
  },
  "language_info": {
   "codemirror_mode": {
    "name": "ipython",
    "version": 3
   },
   "file_extension": ".py",
   "mimetype": "text/x-python",
   "name": "python",
   "nbconvert_exporter": "python",
   "pygments_lexer": "ipython3",
   "version": "3.5.3"
  }
 },
 "nbformat": 4,
 "nbformat_minor": 0
}
