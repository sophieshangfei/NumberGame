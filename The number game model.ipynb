{
 "cells": [
  {
   "cell_type": "code",
   "execution_count": 75,
   "metadata": {
    "collapsed": true
   },
   "outputs": [],
   "source": [
    "import numpy as np\n",
    "#continuous intervals\n",
    "first = 1\n",
    "last = 100"
   ]
  },
  {
   "cell_type": "code",
   "execution_count": 76,
   "metadata": {
    "collapsed": true
   },
   "outputs": [],
   "source": [
    "def continuous(first, last):\n",
    "\tdomain = np.arange(0, 100, 1)\n",
    "\ti = 1\n",
    "\tn = last*(last + 1)/2\n",
    "\thyps = []\n",
    "\tnames = []\n",
    "\tsizes = []\n",
    "\tfor s in domain:\n",
    "\t\tlocal_domain = np.arange(s, last, 1)\n",
    "\t\tfor e in local_domain:\n",
    "\t\t\thyps.append(np.arange(s, e+1,1))\n",
    "\t\t\tnames.append([\"interval from \" + str(s) + \" to \" + str(e)])\n",
    "\t\t\tsizes.append(len(hyps[i-1]))\n",
    "\t\t\ti = i + 1\n",
    "\treturn [hyps, names, sizes]"
   ]
  },
  {
   "cell_type": "code",
   "execution_count": 77,
   "metadata": {
    "collapsed": true
   },
   "outputs": [],
   "source": [
    "# all number\n",
    "def all_number(first, last):\n",
    "\tall =  np.arange(0, 100, 1)\n",
    "\tnames = \"all\"\n",
    "\tsizes = len(all)\n",
    "\treturn [all, names, sizes]"
   ]
  },
  {
   "cell_type": "code",
   "execution_count": 78,
   "metadata": {
    "collapsed": true
   },
   "outputs": [],
   "source": [
    "# even or odd\n",
    "def even_odd(first, last):\n",
    "\tdomain = np.arange(0, 100, 1)\n",
    "\tevens = [x for x in domain if x % 2 == 0]\n",
    "\todds = [x for x in domain if x % 2 != 0]\n",
    "\thyps = np.array((evens, odds))\n",
    "\tnames = [\"evens\", \"odds\"]\n",
    "\tsizes = [len(evens), len(odds)]\n",
    "\treturn [hyps, names, sizes]"
   ]
  },
  {
   "cell_type": "code",
   "execution_count": 79,
   "metadata": {
    "collapsed": true
   },
   "outputs": [],
   "source": [
    "# powers\n",
    "def powers (first, last):\n",
    "\tdomain = np.arange(0, 100, 1)\n",
    "\tpower = [2, 3, 4, 5, 6]\n",
    "\tn = len(power)\n",
    "\thyps = []\n",
    "\tnames = []\n",
    "\tsizes = []\n",
    "\tfor i in np.arange(1, n, 1):\n",
    "\t\tp = power[i-1]\n",
    "\t\thyps.append([n**p for n in domain if n**p<=last])\n",
    "\t\tnames.append([\"powers of \" + str(p)])\n",
    "\t\tsizes.append(len(hyps[i-1]))\n",
    "\treturn [hyps, names, sizes]"
   ]
  },
  {
   "cell_type": "code",
   "execution_count": 83,
   "metadata": {
    "collapsed": false
   },
   "outputs": [],
   "source": [
    "# a chart of all lower hypothesis\n",
    "def hypothesis_chart(first, last):\n",
    "\tc=continuous(first, last)\n",
    "\tn=all_number(first, last)\n",
    "\teo=even_odd(first, last)\n",
    "\tp=powers(first, last)\n",
    "\treturn [c, n, eo, p, n]"
   ]
  },
  {
   "cell_type": "code",
   "execution_count": 84,
   "metadata": {
    "collapsed": true
   },
   "outputs": [],
   "source": [
    "# lower hypothesis space\n",
    "###### mag first, math second ######\n",
    "c=continuous(first, last)\n",
    "n=all_number(first, last)\n",
    "eo=even_odd(first, last)\n",
    "p=powers(first, last)\n",
    "n_2=all_number(first, last)\n",
    "nmag = len(c[0]) + len(n[0])\n",
    "nmath = len(eo[0]) + len(p[0]) + len(n_2[0])\n",
    "hypothesis_space=[]\n",
    "hypothesis_space.extend(c[0])\n",
    "hypothesis_space.extend(n[0])\n",
    "hypothesis_space.extend(eo[0])\n",
    "hypothesis_space.extend(p[0])\n",
    "hypothesis_space.extend(n_2[0])"
   ]
  },
  {
   "cell_type": "code",
   "execution_count": 85,
   "metadata": {
    "collapsed": false
   },
   "outputs": [
    {
     "name": "stdout",
     "output_type": "stream",
     "text": [
      "5256\n"
     ]
    }
   ],
   "source": [
    "# covert lower hypothesis space to binary\n",
    "last = 100\n",
    "nhyp = len(hypothesis_space)\n",
    "print (nhyp)\n",
    "hypothesisbin = np.zeros(shape = [last, nhyp])"
   ]
  },
  {
   "cell_type": "code",
   "execution_count": 86,
   "metadata": {
    "collapsed": true
   },
   "outputs": [],
   "source": [
    "# overhypothesis space\n",
    "##### mag first, math second ######\n",
    "mag_space = np.append(np.repeat(1, nmath), np.repeat(0, nmag))\n",
    "math_space = np.append(np.repeat(0, nmath), np.repeat(1, nmag))\n",
    "overhypothesis = np.stack((mag_space, math_space))"
   ]
  },
  {
   "cell_type": "code",
   "execution_count": 87,
   "metadata": {
    "collapsed": true
   },
   "outputs": [],
   "source": [
    "# lambda\n",
    "math_prior = 0.9\n",
    "# 1-lambda\n",
    "mag_prior = 1-math_prior"
   ]
  },
  {
   "cell_type": "code",
   "execution_count": 88,
   "metadata": {
    "collapsed": true
   },
   "outputs": [],
   "source": [
    "### prior ###\n",
    "\n",
    "##### mag first, math second ######\n",
    "\n",
    "# low-level prior\n",
    "prior_mag = mag_prior/nmag\n",
    "prior_math = math_prior/nmath\n",
    "low_prior = []\n",
    "low_prior.extend(np.repeat(prior_mag, nmag))\n",
    "low_prior.extend(np.repeat(prior_math, nmath))\n",
    "low_prior = np.matrix(low_prior)\n"
   ]
  },
  {
   "cell_type": "code",
   "execution_count": 89,
   "metadata": {
    "collapsed": false
   },
   "outputs": [
    {
     "name": "stdout",
     "output_type": "stream",
     "text": [
      "0.9\n",
      "(1, 2)\n"
     ]
    }
   ],
   "source": [
    "# theory level prior\n",
    "##### mag first, math second ######\n",
    "theory_prior = np.matrix((mag_prior, math_prior))\n",
    "print (theory_prior[0,1])\n",
    "\n",
    "print (theory_prior.shape)"
   ]
  },
  {
   "cell_type": "code",
   "execution_count": 90,
   "metadata": {
    "collapsed": false
   },
   "outputs": [
    {
     "name": "stdout",
     "output_type": "stream",
     "text": [
      "100\n",
      "[[ 1.  1.  1. ...,  0.  0.  0.]\n",
      " [ 0.  1.  1. ...,  0.  0.  0.]\n",
      " [ 0.  0.  1. ...,  0.  0.  0.]\n",
      " ..., \n",
      " [ 0.  0.  0. ...,  1.  0.  0.]\n",
      " [ 0.  0.  0. ...,  0.  1.  0.]\n",
      " [ 0.  0.  0. ...,  0.  0.  1.]]\n"
     ]
    }
   ],
   "source": [
    "# lower-level matrix\n",
    "domain = np.arange(0, 100, 1)\n",
    "print (len(domain))\n",
    "lower_level_matrix = np.empty(shape=[0, nhyp])\n",
    "for d in domain:\n",
    "\td_binary = []\n",
    "\tfor h in hypothesis_space:\n",
    "\t\tif np.in1d(d, h)[0]:\n",
    "\t\t\td_binary.append(1)\n",
    "\t\telse:\n",
    "\t\t\td_binary.append(0)\n",
    "\tlower_level_matrix = np.append(lower_level_matrix, [d_binary], axis = 0)\n",
    "print (lower_level_matrix)"
   ]
  },
  {
   "cell_type": "code",
   "execution_count": 91,
   "metadata": {
    "collapsed": true
   },
   "outputs": [],
   "source": [
    "# lower_level likelihood\n",
    "lower_level_likelihood_deno = np.sum(lower_level_matrix, axis = 0)\n",
    "lower_level_likelihood = np.matrix([1/p for p in lower_level_likelihood_deno])"
   ]
  },
  {
   "cell_type": "code",
   "execution_count": 92,
   "metadata": {
    "collapsed": true
   },
   "outputs": [],
   "source": [
    "# lower_level likelihood of an observation\n",
    "def lower_level_likelihood_for_observation(lower_level_matrix, observation):\n",
    "    lower_level_likelihood_observation = np.multiply(lower_level_matrix[observation,:], lower_level_likelihood)\n",
    "    return lower_level_likelihood_observation\n",
    "#observation = 2\n",
    "#lower_level_likelihood_observation = np.multiply(lower_level_matrix[observation,:], lower_level_likelihood)"
   ]
  },
  {
   "cell_type": "code",
   "execution_count": 93,
   "metadata": {
    "collapsed": true
   },
   "outputs": [],
   "source": [
    "### Step 1 - theory-level likelihood ###\n",
    "def theory_level_likeli(overhypothesis, low_prior):\n",
    "    theory_level_likelihood_mag=np.multiply(np.matrix(overhypothesis[0,:]).transpose(),low_prior.transpose())\n",
    "    theory_level_likelihood_mag /= np.sum(theory_level_likelihood_mag)\n",
    "    theory_level_likelihood_math=np.multiply(np.matrix(overhypothesis[1,:]).transpose(),low_prior.transpose())\n",
    "    theory_level_likelihood_math /= np.sum(theory_level_likelihood_math)\n",
    "    theory_level_likelihood = np.stack((theory_level_likelihood_mag.transpose(), theory_level_likelihood_math.transpose()))\n",
    "    return theory_level_likelihood"
   ]
  },
  {
   "cell_type": "code",
   "execution_count": 94,
   "metadata": {
    "collapsed": false
   },
   "outputs": [],
   "source": [
    "### Step 2 ###\n",
    "def prob_observation_for_theory (lower_level_likelihood_observation, theory_level_likelihood):\n",
    "    # prior for observation\n",
    "    #prob_observation_theory = transpose_lower_likeli*theory_level_likelihood\n",
    "    prob_observation_theory = []\n",
    "    for row in theory_level_likelihood:\n",
    "        a = np.multiply(row, lower_level_likelihood_observation)\n",
    "        prob_observation_theory.append(np.sum(a))\n",
    "    prob_observation_theory = np.matrix(prob_observation_theory)\n",
    "    return prob_observation_theory"
   ]
  },
  {
   "cell_type": "code",
   "execution_count": 95,
   "metadata": {
    "collapsed": true
   },
   "outputs": [],
   "source": [
    "### Step 3 theory-level posterior distribution ###\n",
    "def theory_level_posterior_distribution(prob_observation_theory, theory_prior):\n",
    "    numerator = np.multiply(prob_observation_theory, theory_prior)\n",
    "    denominator = np.sum(numerator)\n",
    "    theory_level_posterior = numerator/denominator\n",
    "    return theory_level_posterior"
   ]
  },
  {
   "cell_type": "code",
   "execution_count": 96,
   "metadata": {
    "collapsed": true
   },
   "outputs": [],
   "source": [
    "### Step 3a lower-level posterior distribution ###\n",
    "def low_level_posterior_distribution(low_prior, lower_level_likelihood_observation):\n",
    "    numerator = np.multiply(low_prior, lower_level_likelihood_observation)\n",
    "    denominator = np.sum(numerator)\n",
    "    i = 0\n",
    "    lower_level_posterior = []\n",
    "    while i < nhyp:\n",
    "        lower_level_posterior.append(numerator[0,i]/denominator)\n",
    "        i = i +1\n",
    "    lower_level_posterior = np.matrix(lower_level_posterior)\n",
    "    return lower_level_posterior"
   ]
  },
  {
   "cell_type": "code",
   "execution_count": 97,
   "metadata": {
    "collapsed": true
   },
   "outputs": [],
   "source": [
    "### Step 4 re-assigning priors ###\n",
    "def assign_theory_priors(theory_level_posterior, lower_level_posterior):\n",
    "    math_prior = theory_level_posterior[0,1]\n",
    "    mag_prior = 1 - math_prior\n",
    "    new_theory_prior = np.matrix((mag_prior, math_prior))\n",
    "    return new_theory_prior\n",
    "def assign_low_priors(lower_level_posterior, new_theory_prior):\n",
    "    # low level #\n",
    "    mag_prior = new_theory_prior[0, 0]\n",
    "    math_prior = new_theory_prior[0 ,1]\n",
    "    denominator = np.sum(lower_level_posterior)\n",
    "    numerator = []\n",
    "    i = 0\n",
    "    while i < nmag:\n",
    "        numerator.append(mag_prior*lower_level_posterior[0, i])\n",
    "        i = i + 1\n",
    "    m = nmag\n",
    "    while m < (nhyp):\n",
    "        numerator.append(math_prior * lower_level_posterior[0, m])\n",
    "        m = m + 1\n",
    "    \n",
    "    lower_level_new_prior = np.matrix([n/denominator for n in numerator])\n",
    "    return lower_level_new_prior"
   ]
  },
  {
   "cell_type": "code",
   "execution_count": 98,
   "metadata": {
    "collapsed": true
   },
   "outputs": [],
   "source": [
    "observation_list = [2, 4, 6, 8]\n",
    "# lambda\n",
    "math_prior = 0.5\n",
    "# 1-lambda\n",
    "mag_prior = 1-math_prior\n",
    "theory_prior = [mag_prior, math_prior]\n",
    "\n",
    "def run_the_model(observation_list, math_prior, low_prior, theory_prior):\n",
    "    posterior_predictive = []\n",
    "    for o in observation_list:\n",
    "        lower_level_likelihood_observation = lower_level_likelihood_for_observation(lower_level_matrix, o)\n",
    "        theory_level_likelihood = theory_level_likeli(overhypothesis, low_prior)\n",
    "        prob_observation_theory = prob_observation_for_theory (lower_level_likelihood_observation, theory_level_likelihood)\n",
    "        theory_level_posterior = theory_level_posterior_distribution(prob_observation_theory, theory_prior)\n",
    "        print(theory_level_posterior)\n",
    "        lower_level_posterior = low_level_posterior_distribution(low_prior, lower_level_likelihood_observation)\n",
    "        posterior_predictive_o = lower_level_matrix*lower_level_posterior.transpose()\n",
    "        theory_prior = theory_level_posterior.copy()\n",
    "#         print(theory_prior)\n",
    "        low_prior = lower_level_posterior.copy()\n",
    "        posterior_predictive.append(posterior_predictive_o)\n",
    "    return posterior_predictive "
   ]
  },
  {
   "cell_type": "code",
   "execution_count": 99,
   "metadata": {
    "collapsed": false
   },
   "outputs": [
    {
     "name": "stdout",
     "output_type": "stream",
     "text": [
      "[[ 0.8455731  0.1544269]]\n",
      "[[ 0.99577293  0.00422707]]\n",
      "[[ 0.99503349  0.00496651]]\n",
      "[[ 0.99220469  0.00779531]]\n"
     ]
    }
   ],
   "source": [
    "posterior = run_the_model(observation_list, math_prior, low_prior, theory_prior)"
   ]
  },
  {
   "cell_type": "code",
   "execution_count": 100,
   "metadata": {
    "collapsed": false
   },
   "outputs": [
    {
     "name": "stdout",
     "output_type": "stream",
     "text": [
      "(100, 1)\n"
     ]
    },
    {
     "data": {
      "text/plain": [
       "<function matplotlib.pyplot.show>"
      ]
     },
     "execution_count": 100,
     "metadata": {},
     "output_type": "execute_result"
    },
    {
     "data": {
      "image/png": "[encoded data removed]",
      "text/plain": [
       "<matplotlib.figure.Figure at 0x10b1b8e10>"
      ]
     },
     "metadata": {},
     "output_type": "display_data"
    }
   ],
   "source": [
    "%matplotlib inline\n",
    "x_axis = domain = np.arange(0, 100, 1)\n",
    "y_axis = posterior[3]\n",
    "print(y_axis.shape)\n",
    "plt.bar(x_axis, y_axis)\n",
    "plt.show"
   ]
  },
  {
   "cell_type": "code",
   "execution_count": null,
   "metadata": {
    "collapsed": true
   },
   "outputs": [],
   "source": []
  },
  {
   "cell_type": "code",
   "execution_count": null,
   "metadata": {
    "collapsed": true
   },
   "outputs": [],
   "source": []
  }
 ],
 "metadata": {
  "anaconda-cloud": {},
  "kernelspec": {
   "display_name": "Python [Root]",
   "language": "python",
   "name": "Python [Root]"
  },
  "language_info": {
   "codemirror_mode": {
    "name": "ipython",
    "version": 3
   },
   "file_extension": ".py",
   "mimetype": "text/x-python",
   "name": "python",
   "nbconvert_exporter": "python",
   "pygments_lexer": "ipython3",
   "version": "3.5.3"
  }
 },
 "nbformat": 4,
 "nbformat_minor": 0
}
