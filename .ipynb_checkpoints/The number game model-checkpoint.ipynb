{
 "cells": [
  {
   "cell_type": "markdown",
   "metadata": {
    "collapsed": true
   },
   "source": [
    "# The Number Game"
   ]
  },
  {
   "cell_type": "code",
   "execution_count": 27,
   "metadata": {
    "collapsed": true
   },
   "outputs": [],
   "source": [
    "import numpy as np\n",
    "import matplotlib.pyplot as plt"
   ]
  },
  {
   "cell_type": "markdown",
   "metadata": {},
   "source": [
    "Construct a range for the numbers that our imaginary computer program accepts"
   ]
  },
  {
   "cell_type": "code",
   "execution_count": 28,
   "metadata": {
    "collapsed": true
   },
   "outputs": [],
   "source": [
    "#continuous intervals\n",
    "first = 1\n",
    "last = 100"
   ]
  },
  {
   "cell_type": "markdown",
   "metadata": {},
   "source": [
    "## Construct Hypothesis\n",
    "<br>On the theory level, there are two types of hypotheses - mathematical and magnitude. Low-level hypotheses under *mathematical* theory-level hypotheses include 'even number', 'a power of two', etc. Low-level hypotheses under *magnitude* theory-level hypotheses include 'between 20 to 50', 'between 1 and 10', etc. "
   ]
  },
  {
   "cell_type": "code",
   "execution_count": 29,
   "metadata": {
    "collapsed": true
   },
   "outputs": [],
   "source": [
    "def continuous(first, last):\n",
    "\tdomain = np.arange(0, 100, 1)\n",
    "\ti = 1\n",
    "\tn = last*(last + 1)/2\n",
    "\thyps = []\n",
    "\tnames = []\n",
    "\tsizes = []\n",
    "\tfor s in domain:\n",
    "\t\tlocal_domain = np.arange(s, last, 1)\n",
    "\t\tfor e in local_domain:\n",
    "\t\t\thyps.append(np.arange(s, e+1,1))\n",
    "\t\t\tnames.append([\"interval from \" + str(s) + \" to \" + str(e)])\n",
    "\t\t\tsizes.append(len(hyps[i-1]))\n",
    "\t\t\ti = i + 1\n",
    "\treturn [hyps, names, sizes]"
   ]
  },
  {
   "cell_type": "code",
   "execution_count": 30,
   "metadata": {
    "collapsed": true
   },
   "outputs": [],
   "source": [
    "# all number\n",
    "def all_number(first, last):\n",
    "\tall =  np.arange(0, 100, 1)\n",
    "\tnames = \"all\"\n",
    "\tsizes = len(all)\n",
    "\treturn [all, names, sizes]"
   ]
  },
  {
   "cell_type": "code",
   "execution_count": 31,
   "metadata": {
    "collapsed": true
   },
   "outputs": [],
   "source": [
    "# even or odd\n",
    "def even_odd(first, last):\n",
    "\tdomain = np.arange(0, 100, 1)\n",
    "\tevens = [x for x in domain if x % 2 == 0]\n",
    "\todds = [x for x in domain if x % 2 != 0]\n",
    "\thyps = np.array((evens, odds))\n",
    "\tnames = [\"evens\", \"odds\"]\n",
    "\tsizes = [len(evens), len(odds)]\n",
    "\treturn [hyps, names, sizes]"
   ]
  },
  {
   "cell_type": "code",
   "execution_count": 32,
   "metadata": {
    "collapsed": true
   },
   "outputs": [],
   "source": [
    "# powers\n",
    "def powers (first, last):\n",
    "\tdomain = np.arange(0, 100, 1)\n",
    "\tpower = [2, 3, 4, 5, 6]\n",
    "\tn = len(power)\n",
    "\thyps = []\n",
    "\tnames = []\n",
    "\tsizes = []\n",
    "\tfor i in np.arange(1, n, 1):\n",
    "\t\tp = power[i-1]\n",
    "\t\thyps.append([n**p for n in domain if n**p<=last])\n",
    "\t\tnames.append([\"powers of \" + str(p)])\n",
    "\t\tsizes.append(len(hyps[i-1]))\n",
    "\treturn [hyps, names, sizes]"
   ]
  },
  {
   "cell_type": "markdown",
   "metadata": {},
   "source": [
    "Construct a matrix for all lower hypotheses"
   ]
  },
  {
   "cell_type": "code",
   "execution_count": 34,
   "metadata": {
    "collapsed": true
   },
   "outputs": [],
   "source": [
    "# a chart of all lower hypothesis\n",
    "def hypothesis_chart(first, last):\n",
    "\tc=continuous(first, last)\n",
    "\tn=all_number(first, last)\n",
    "\teo=even_odd(first, last)\n",
    "\tp=powers(first, last)\n",
    "\treturn [c, n, eo, p, n]"
   ]
  },
  {
   "cell_type": "code",
   "execution_count": 35,
   "metadata": {
    "collapsed": true
   },
   "outputs": [],
   "source": [
    "# lower hypothesis space\n",
    "###### mag first, math second ######\n",
    "c=continuous(first, last)\n",
    "n=all_number(first, last)\n",
    "eo=even_odd(first, last)\n",
    "p=powers(first, last)\n",
    "n_2=all_number(first, last)\n",
    "nmag = len(c[0]) + len(n[0])\n",
    "nmath = len(eo[0]) + len(p[0]) + len(n_2[0])\n",
    "hypothesis_space=[]\n",
    "hypothesis_space.extend(c[0])\n",
    "hypothesis_space.extend(n[0])\n",
    "hypothesis_space.extend(eo[0])\n",
    "hypothesis_space.extend(p[0])\n",
    "hypothesis_space.extend(n_2[0])"
   ]
  },
  {
   "cell_type": "code",
   "execution_count": 36,
   "metadata": {},
   "outputs": [
    {
     "name": "stdout",
     "output_type": "stream",
     "text": [
      "5256\n"
     ]
    }
   ],
   "source": [
    "# covert lower hypothesis space to binary\n",
    "last = 100\n",
    "nhyp = len(hypothesis_space)\n",
    "print (nhyp)\n",
    "hypothesisbin = np.zeros(shape = [last, nhyp])\n",
    "# we have 5256 hypotheses in total"
   ]
  },
  {
   "cell_type": "code",
   "execution_count": 37,
   "metadata": {},
   "outputs": [
    {
     "name": "stdout",
     "output_type": "stream",
     "text": [
      "(2, 5256)\n"
     ]
    }
   ],
   "source": [
    "# overhypothesis space\n",
    "# overhypothesis space is a 2 * 2567 matrix \n",
    "##### mag first, math second ######\n",
    "mag_space = np.append(np.repeat(1, nmath), np.repeat(0, nmag))\n",
    "math_space = np.append(np.repeat(0, nmath), np.repeat(1, nmag))\n",
    "overhypothesis = np.stack((mag_space, math_space))\n",
    "print (overhypothesis.shape)"
   ]
  },
  {
   "cell_type": "markdown",
   "metadata": {},
   "source": [
    "## Priors\n",
    "<br>Select a prior for theory-level magnitude/mathematical hypotheses, defined as $\\lambda$. Model here defines prior for mathematical hypotheses as $\\lambda$. Priors for low-level hypotheses are uniform distribution constrained by theory-level hypotheses priors."
   ]
  },
  {
   "cell_type": "code",
   "execution_count": 10,
   "metadata": {
    "collapsed": true
   },
   "outputs": [],
   "source": [
    "# lambda\n",
    "math_prior = 0.9\n",
    "# 1-lambda\n",
    "mag_prior = 1-math_prior"
   ]
  },
  {
   "cell_type": "code",
   "execution_count": 11,
   "metadata": {
    "collapsed": true
   },
   "outputs": [],
   "source": [
    "### prior ###\n",
    "\n",
    "##### mag first, math second ######\n",
    "\n",
    "# low-level prior\n",
    "prior_mag = mag_prior/nmag\n",
    "prior_math = math_prior/nmath\n",
    "low_prior = []\n",
    "low_prior.extend(np.repeat(prior_mag, nmag))\n",
    "low_prior.extend(np.repeat(prior_math, nmath))\n",
    "low_prior = np.matrix(low_prior)\n"
   ]
  },
  {
   "cell_type": "code",
   "execution_count": 12,
   "metadata": {},
   "outputs": [
    {
     "name": "stdout",
     "output_type": "stream",
     "text": [
      "0.9\n",
      "(1, 2)\n"
     ]
    }
   ],
   "source": [
    "# theory level prior\n",
    "##### mag first, math second ######\n",
    "theory_prior = np.matrix((mag_prior, math_prior))\n",
    "print (theory_prior[0,1])\n",
    "\n",
    "print (theory_prior.shape)"
   ]
  },
  {
   "cell_type": "markdown",
   "metadata": {},
   "source": [
    "## Likelihood\n",
    "\n",
    "<br>To construct a likelihood matrix for each low-level hypothesis, we need to first construct a matrix, which is called lower-level matrix here, that counts the number of instances where a specific hypothesis generates the numbres in our defined range. Take an arbiturary number from the range, n. If n can be generated by a given low-level hypothesis, it would be recorded as 1 and 0 otherwise. \n",
    "\n",
    "This lower-level matrix works as a weight. Such weight is computed by inverting the total number of instances such hypothesis has generated. The likelihood of an observation (given the low-level hypotheses) is computed by weighting each element of low-level hypothsis by the computed weight."
   ]
  },
  {
   "cell_type": "code",
   "execution_count": 13,
   "metadata": {},
   "outputs": [
    {
     "name": "stdout",
     "output_type": "stream",
     "text": [
      "100\n",
      "(100, 5256)\n"
     ]
    }
   ],
   "source": [
    "# lower-level matrix\n",
    "domain = np.arange(0, 100, 1)\n",
    "print (len(domain))\n",
    "lower_level_matrix = np.empty(shape=[0, nhyp])\n",
    "for d in domain:\n",
    "\td_binary = []\n",
    "\tfor h in hypothesis_space:\n",
    "\t\tif np.in1d(d, h)[0]:\n",
    "\t\t\td_binary.append(1)\n",
    "\t\telse:\n",
    "\t\t\td_binary.append(0)\n",
    "\tlower_level_matrix = np.append(lower_level_matrix, [d_binary], axis = 0)\n",
    "print (lower_level_matrix.shape)"
   ]
  },
  {
   "cell_type": "code",
   "execution_count": 14,
   "metadata": {
    "collapsed": true
   },
   "outputs": [],
   "source": [
    "# lower_level likelihood\n",
    "lower_level_likelihood_deno = np.sum(lower_level_matrix, axis = 0)\n",
    "lower_level_likelihood = np.matrix([1/p for p in lower_level_likelihood_deno])"
   ]
  },
  {
   "cell_type": "markdown",
   "metadata": {},
   "source": [
    "Likelihood given an observation"
   ]
  },
  {
   "cell_type": "code",
   "execution_count": 39,
   "metadata": {},
   "outputs": [],
   "source": [
    "# lower_level likelihood of an observation\n",
    "def lower_level_likelihood_for_observation(lower_level_matrix, observation):\n",
    "    lower_level_likelihood_observation = np.multiply(lower_level_matrix[observation,:], lower_level_likelihood)\n",
    "    return lower_level_likelihood_observation\n"
   ]
  },
  {
   "cell_type": "markdown",
   "metadata": {},
   "source": [
    "## Model"
   ]
  },
  {
   "cell_type": "code",
   "execution_count": 16,
   "metadata": {
    "collapsed": true
   },
   "outputs": [],
   "source": [
    "### Step 1 - theory-level likelihood ###\n",
    "def theory_level_likeli(overhypothesis, low_prior):\n",
    "    theory_level_likelihood_mag=np.multiply(np.matrix(overhypothesis[0,:]).transpose(),low_prior.transpose())\n",
    "    theory_level_likelihood_mag /= np.sum(theory_level_likelihood_mag)\n",
    "    theory_level_likelihood_math=np.multiply(np.matrix(overhypothesis[1,:]).transpose(),low_prior.transpose())\n",
    "    theory_level_likelihood_math /= np.sum(theory_level_likelihood_math)\n",
    "    theory_level_likelihood = np.stack((theory_level_likelihood_mag.transpose(), theory_level_likelihood_math.transpose()))\n",
    "    return theory_level_likelihood"
   ]
  },
  {
   "cell_type": "code",
   "execution_count": 17,
   "metadata": {
    "collapsed": true
   },
   "outputs": [],
   "source": [
    "### Step 2 ###\n",
    "def prob_observation_for_theory (lower_level_likelihood_observation, theory_level_likelihood):\n",
    "    # prior for observation\n",
    "    #prob_observation_theory = transpose_lower_likeli*theory_level_likelihood\n",
    "    prob_observation_theory = []\n",
    "    for row in theory_level_likelihood:\n",
    "        a = np.multiply(row, lower_level_likelihood_observation)\n",
    "        prob_observation_theory.append(np.sum(a))\n",
    "    prob_observation_theory = np.matrix(prob_observation_theory)\n",
    "    return prob_observation_theory"
   ]
  },
  {
   "cell_type": "code",
   "execution_count": 18,
   "metadata": {
    "collapsed": true
   },
   "outputs": [],
   "source": [
    "### Step 3 theory-level posterior distribution ###\n",
    "def theory_level_posterior_distribution(prob_observation_theory, theory_prior):\n",
    "    numerator = np.multiply(prob_observation_theory, theory_prior)\n",
    "    denominator = np.sum(numerator)\n",
    "    theory_level_posterior = numerator/denominator\n",
    "    return theory_level_posterior"
   ]
  },
  {
   "cell_type": "code",
   "execution_count": 19,
   "metadata": {
    "collapsed": true
   },
   "outputs": [],
   "source": [
    "### Step 3a lower-level posterior distribution ###\n",
    "def low_level_posterior_distribution(low_prior, lower_level_likelihood_observation):\n",
    "    numerator = np.multiply(low_prior, lower_level_likelihood_observation)\n",
    "    denominator = np.sum(numerator)\n",
    "    i = 0\n",
    "    lower_level_posterior = []\n",
    "    while i < nhyp:\n",
    "        lower_level_posterior.append(numerator[0,i]/denominator)\n",
    "        i = i +1\n",
    "    lower_level_posterior = np.matrix(lower_level_posterior)\n",
    "    return lower_level_posterior"
   ]
  },
  {
   "cell_type": "code",
   "execution_count": 20,
   "metadata": {
    "collapsed": true
   },
   "outputs": [],
   "source": [
    "### Step 4 re-assigning priors ###\n",
    "def assign_theory_priors(theory_level_posterior, lower_level_posterior):\n",
    "    math_prior = theory_level_posterior[0,1]\n",
    "    mag_prior = 1 - math_prior\n",
    "    new_theory_prior = np.matrix((mag_prior, math_prior))\n",
    "    return new_theory_prior\n",
    "def assign_low_priors(lower_level_posterior, new_theory_prior):\n",
    "    # low level #\n",
    "    mag_prior = new_theory_prior[0, 0]\n",
    "    math_prior = new_theory_prior[0 ,1]\n",
    "    denominator = np.sum(lower_level_posterior)\n",
    "    numerator = []\n",
    "    i = 0\n",
    "    while i < nmag:\n",
    "        numerator.append(mag_prior*lower_level_posterior[0, i])\n",
    "        i = i + 1\n",
    "    m = nmag\n",
    "    while m < (nhyp):\n",
    "        numerator.append(math_prior * lower_level_posterior[0, m])\n",
    "        m = m + 1\n",
    "    \n",
    "    lower_level_new_prior = np.matrix([n/denominator for n in numerator])\n",
    "    return lower_level_new_prior"
   ]
  },
  {
   "cell_type": "markdown",
   "metadata": {},
   "source": [
    "## Model in action"
   ]
  },
  {
   "cell_type": "markdown",
   "metadata": {},
   "source": [
    "To run the model, feeds in the observations that agents  encountered. Specify priors of mathematics hypothesis and magnitude hypothesis. "
   ]
  },
  {
   "cell_type": "code",
   "execution_count": 45,
   "metadata": {
    "collapsed": true
   },
   "outputs": [],
   "source": [
    "observation_list = [2, 4, 6, 8]\n",
    "# lambda\n",
    "math_prior = 0.5\n",
    "# 1-lambda\n",
    "mag_prior = 1-math_prior\n",
    "theory_prior = [mag_prior, math_prior]\n",
    "\n",
    "def run_the_model(observation_list, math_prior, low_prior, theory_prior):\n",
    "    posterior_predictive = []\n",
    "    theory_prior_track = [theory_prior]\n",
    "    for o in observation_list:\n",
    "        lower_level_likelihood_observation = lower_level_likelihood_for_observation(lower_level_matrix, o)\n",
    "        theory_level_likelihood = theory_level_likeli(overhypothesis, low_prior)\n",
    "        prob_observation_theory = prob_observation_for_theory (lower_level_likelihood_observation, theory_level_likelihood)\n",
    "        theory_level_posterior = theory_level_posterior_distribution(prob_observation_theory, theory_prior)\n",
    "        #print(theory_level_posterior)\n",
    "        lower_level_posterior = low_level_posterior_distribution(low_prior, lower_level_likelihood_observation)\n",
    "        posterior_predictive_o = lower_level_matrix*lower_level_posterior.transpose()\n",
    "        theory_prior_track.append(theory_level_posterior.copy())\n",
    "        theory_prior = theory_level_posterior.copy()\n",
    "#         print(theory_prior)\n",
    "        low_prior = lower_level_posterior.copy()\n",
    "        posterior_predictive.append(posterior_predictive_o)\n",
    "    return posterior_predictive, theory_prior_track;"
   ]
  },
  {
   "cell_type": "markdown",
   "metadata": {},
   "source": [
    "Running the model essentially gives you the posterior predictives."
   ]
  },
  {
   "cell_type": "code",
   "execution_count": 46,
   "metadata": {
    "collapsed": true
   },
   "outputs": [],
   "source": [
    "posterior, prior_change = run_the_model(observation_list, math_prior, low_prior, theory_prior)"
   ]
  },
  {
   "cell_type": "code",
   "execution_count": 47,
   "metadata": {},
   "outputs": [
    {
     "data": {
      "text/plain": [
       "[[0.5, 0.5],\n",
       " matrix([[ 0.8455731,  0.1544269]]),\n",
       " matrix([[ 0.99577293,  0.00422707]]),\n",
       " matrix([[ 0.99503349,  0.00496651]]),\n",
       " matrix([[ 0.99220469,  0.00779531]])]"
      ]
     },
     "execution_count": 47,
     "metadata": {},
     "output_type": "execute_result"
    }
   ],
   "source": [
    "prior_change"
   ]
  },
  {
   "cell_type": "markdown",
   "metadata": {},
   "source": [
    "Posterior predictives for all numbers after observing 2."
   ]
  },
  {
   "cell_type": "code",
   "execution_count": 54,
   "metadata": {},
   "outputs": [
    {
     "name": "stdout",
     "output_type": "stream",
     "text": [
      "(100, 1)\n"
     ]
    },
    {
     "data": {
      "text/plain": [
       "<function matplotlib.pyplot.show>"
      ]
     },
     "execution_count": 54,
     "metadata": {},
     "output_type": "execute_result"
    },
    {
     "data": {
      "image/png": "[encoded data removed]",
      "text/plain": [
       "<matplotlib.figure.Figure at 0x111672128>"
      ]
     },
     "metadata": {},
     "output_type": "display_data"
    }
   ],
   "source": [
    "%matplotlib inline\n",
    "x_axis = domain = np.arange(0, 100, 1)\n",
    "y_axis = posterior[0]\n",
    "print(y_axis.shape)\n",
    "plt.subplot(1, 2, 1)\n",
    "plt.bar(x_axis, y_axis)\n",
    "plt.subplot(1, 2, 2)\n",
    "y_label = [0.5, 0.5]\n",
    "x_label= []\n",
    "labels = [ 'Math', 'Mag']\n",
    "for q in labels:\n",
    "    if q == 'Math':\n",
    "        x_label.append(0)\n",
    "    elif q == 'Mag':\n",
    "        x_label.append(1)\n",
    "plt.bar(x_label, y_label)\n",
    "plt.xticks(x_label, labels )\n",
    "plt.show"
   ]
  },
  {
   "cell_type": "markdown",
   "metadata": {},
   "source": [
    "Posterior predictives for all numbers after observing 2 and 4."
   ]
  },
  {
   "cell_type": "code",
   "execution_count": 41,
   "metadata": {},
   "outputs": [
    {
     "name": "stdout",
     "output_type": "stream",
     "text": [
      "(100, 1)\n"
     ]
    },
    {
     "data": {
      "text/plain": [
       "<function matplotlib.pyplot.show>"
      ]
     },
     "execution_count": 41,
     "metadata": {},
     "output_type": "execute_result"
    },
    {
     "data": {
      "image/png": "[encoded data removed]",
      "text/plain": [
       "<matplotlib.figure.Figure at 0x11097cdd8>"
      ]
     },
     "metadata": {},
     "output_type": "display_data"
    }
   ],
   "source": [
    "%matplotlib inline\n",
    "x_axis = domain = np.arange(0, 100, 1)\n",
    "y_axis = posterior[1]\n",
    "print(y_axis.shape)\n",
    "plt.bar(x_axis, y_axis)\n",
    "plt.show"
   ]
  },
  {
   "cell_type": "markdown",
   "metadata": {},
   "source": [
    "Posterior predictives for all numbers after observing 2, 4, and 6."
   ]
  },
  {
   "cell_type": "code",
   "execution_count": 42,
   "metadata": {},
   "outputs": [
    {
     "name": "stdout",
     "output_type": "stream",
     "text": [
      "(100, 1)\n"
     ]
    },
    {
     "data": {
      "text/plain": [
       "<function matplotlib.pyplot.show>"
      ]
     },
     "execution_count": 42,
     "metadata": {},
     "output_type": "execute_result"
    },
    {
     "data": {
      "image/png": "[encoded data removed]",
      "text/plain": [
       "<matplotlib.figure.Figure at 0x110d11320>"
      ]
     },
     "metadata": {},
     "output_type": "display_data"
    }
   ],
   "source": [
    "%matplotlib inline\n",
    "x_axis = domain = np.arange(0, 100, 1)\n",
    "y_axis = posterior[2]\n",
    "print(y_axis.shape)\n",
    "plt.bar(x_axis, y_axis)\n",
    "plt.show"
   ]
  },
  {
   "cell_type": "markdown",
   "metadata": {},
   "source": [
    "Posterior predictives for all numbers after observing 2, 4, 6, and 8."
   ]
  },
  {
   "cell_type": "code",
   "execution_count": 26,
   "metadata": {},
   "outputs": [
    {
     "name": "stdout",
     "output_type": "stream",
     "text": [
      "(100, 1)\n"
     ]
    },
    {
     "data": {
      "text/plain": [
       "<function matplotlib.pyplot.show>"
      ]
     },
     "execution_count": 26,
     "metadata": {},
     "output_type": "execute_result"
    },
    {
     "data": {
      "image/png": "[encoded data removed]",
      "text/plain": [
       "<matplotlib.figure.Figure at 0x10fd67198>"
      ]
     },
     "metadata": {},
     "output_type": "display_data"
    }
   ],
   "source": [
    "%matplotlib inline\n",
    "x_axis = domain = np.arange(0, 100, 1)\n",
    "y_axis = posterior[3]\n",
    "print(y_axis.shape)\n",
    "plt.bar(x_axis, y_axis)\n",
    "plt.show"
   ]
  }
 ],
 "metadata": {
  "anaconda-cloud": {},
  "kernelspec": {
   "display_name": "Python 3",
   "language": "python",
   "name": "python3"
  },
  "language_info": {
   "codemirror_mode": {
    "name": "ipython",
    "version": 3
   },
   "file_extension": ".py",
   "mimetype": "text/x-python",
   "name": "python",
   "nbconvert_exporter": "python",
   "pygments_lexer": "ipython3",
   "version": "3.6.0"
  }
 },
 "nbformat": 4,
 "nbformat_minor": 1
}
